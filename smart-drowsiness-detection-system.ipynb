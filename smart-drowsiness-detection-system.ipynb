{
 "cells": [
  {
   "cell_type": "code",
   "execution_count": 2,
   "metadata": {
    "_cell_guid": "b1076dfc-b9ad-4769-8c92-a6c4dae69d19",
    "_uuid": "8f2839f25d086af736a60e9eeb907d3b93b6e0e5",
    "execution": {
     "iopub.execute_input": "2021-12-15T10:30:42.156452Z",
     "iopub.status.busy": "2021-12-15T10:30:42.15608Z",
     "iopub.status.idle": "2021-12-15T10:30:43.484995Z",
     "shell.execute_reply": "2021-12-15T10:30:43.483881Z",
     "shell.execute_reply.started": "2021-12-15T10:30:42.156354Z"
    },
    "jupyter": {
     "outputs_hidden": true
    }
   },
   "outputs": [],
   "source": [
    "import numpy as np\n",
    "import pandas as pd\n",
    "import os"
   ]
  },
  {
   "cell_type": "code",
   "execution_count": 6,
   "metadata": {
    "execution": {
     "iopub.execute_input": "2021-12-15T10:30:43.491179Z",
     "iopub.status.busy": "2021-12-15T10:30:43.490835Z",
     "iopub.status.idle": "2021-12-15T10:30:43.726163Z",
     "shell.execute_reply": "2021-12-15T10:30:43.725552Z",
     "shell.execute_reply.started": "2021-12-15T10:30:43.491138Z"
    }
   },
   "outputs": [],
   "source": [
    "import cv2"
   ]
  },
  {
   "cell_type": "code",
   "execution_count": 27,
   "metadata": {
    "execution": {
     "iopub.execute_input": "2021-12-15T07:30:56.122068Z",
     "iopub.status.busy": "2021-12-15T07:30:56.121833Z",
     "iopub.status.idle": "2021-12-15T07:30:56.12668Z",
     "shell.execute_reply": "2021-12-15T07:30:56.125716Z",
     "shell.execute_reply.started": "2021-12-15T07:30:56.122038Z"
    }
   },
   "outputs": [],
   "source": [
    "labels=os.listdir('train')"
   ]
  },
  {
   "cell_type": "code",
   "execution_count": 28,
   "metadata": {
    "execution": {
     "iopub.execute_input": "2021-12-15T07:30:56.128944Z",
     "iopub.status.busy": "2021-12-15T07:30:56.128618Z",
     "iopub.status.idle": "2021-12-15T07:30:56.142586Z",
     "shell.execute_reply": "2021-12-15T07:30:56.141694Z",
     "shell.execute_reply.started": "2021-12-15T07:30:56.128916Z"
    }
   },
   "outputs": [
    {
     "data": {
      "text/plain": [
       "['Closed', 'no_yawn', 'Open', 'yawn']"
      ]
     },
     "execution_count": 28,
     "metadata": {},
     "output_type": "execute_result"
    },
    {
     "name": "stderr",
     "output_type": "stream",
     "text": [
      "ERROR: Could not install packages due to an OSError: [Errno 2] No such file or directory: 'C:\\\\Users\\\\shuva\\\\AppData\\\\Local\\\\Temp\\\\pip-req-tracker-jagoc2_u\\\\d9c47f9cfba8c3f6ac0bba5ec7b49392f3711525d2fcd134b5d33f31'\n",
      "\n"
     ]
    },
    {
     "name": "stdout",
     "output_type": "stream",
     "text": [
      "Collecting tensorflow\n",
      "  Downloading tensorflow-2.7.0-cp38-cp38-win_amd64.whl (430.8 MB)\n"
     ]
    }
   ],
   "source": [
    "labels"
   ]
  },
  {
   "cell_type": "code",
   "execution_count": null,
   "metadata": {},
   "outputs": [],
   "source": []
  },
  {
   "cell_type": "code",
   "execution_count": 29,
   "metadata": {
    "execution": {
     "iopub.execute_input": "2021-12-15T07:30:56.144524Z",
     "iopub.status.busy": "2021-12-15T07:30:56.144047Z",
     "iopub.status.idle": "2021-12-15T07:30:56.188061Z",
     "shell.execute_reply": "2021-12-15T07:30:56.187138Z",
     "shell.execute_reply.started": "2021-12-15T07:30:56.144482Z"
    }
   },
   "outputs": [
    {
     "data": {
      "text/plain": [
       "653184"
      ]
     },
     "execution_count": 29,
     "metadata": {},
     "output_type": "execute_result"
    }
   ],
   "source": [
    "import matplotlib.pyplot as plt\n",
    "(plt.imread('train/Open/_300.jpg')).size"
   ]
  },
  {
   "cell_type": "code",
   "execution_count": 3,
   "metadata": {
    "execution": {
     "iopub.execute_input": "2021-12-15T07:30:56.190294Z",
     "iopub.status.busy": "2021-12-15T07:30:56.189947Z",
     "iopub.status.idle": "2021-12-15T07:30:56.194975Z",
     "shell.execute_reply": "2021-12-15T07:30:56.193999Z",
     "shell.execute_reply.started": "2021-12-15T07:30:56.19019Z"
    }
   },
   "outputs": [],
   "source": [
    "categories=['Open','Closed']"
   ]
  },
  {
   "cell_type": "code",
   "execution_count": 7,
   "metadata": {
    "execution": {
     "iopub.execute_input": "2021-12-15T07:30:56.197527Z",
     "iopub.status.busy": "2021-12-15T07:30:56.196831Z",
     "iopub.status.idle": "2021-12-15T07:31:08.912775Z",
     "shell.execute_reply": "2021-12-15T07:31:08.911972Z",
     "shell.execute_reply.started": "2021-12-15T07:30:56.197483Z"
    }
   },
   "outputs": [],
   "source": [
    "data=[]\n",
    "for category in categories:\n",
    "    path=os.path.join('train', category)\n",
    "    \n",
    "    label=categories.index(category)\n",
    "    \n",
    "    for file in os.listdir(path):\n",
    "        \n",
    "        img_path=os.path.join(path,file)\n",
    "        img=cv2.imread(img_path)\n",
    "        img=cv2.resize(img, (244,244))\n",
    "        \n",
    "        data.append([img, label])"
   ]
  },
  {
   "cell_type": "code",
   "execution_count": 8,
   "metadata": {
    "execution": {
     "iopub.execute_input": "2021-12-15T07:31:08.915932Z",
     "iopub.status.busy": "2021-12-15T07:31:08.913851Z",
     "iopub.status.idle": "2021-12-15T07:31:08.922137Z",
     "shell.execute_reply": "2021-12-15T07:31:08.921266Z",
     "shell.execute_reply.started": "2021-12-15T07:31:08.915893Z"
    }
   },
   "outputs": [
    {
     "data": {
      "text/plain": [
       "1452"
      ]
     },
     "execution_count": 8,
     "metadata": {},
     "output_type": "execute_result"
    }
   ],
   "source": [
    "len(data)"
   ]
  },
  {
   "cell_type": "code",
   "execution_count": 9,
   "metadata": {
    "execution": {
     "iopub.execute_input": "2021-12-15T07:31:08.923603Z",
     "iopub.status.busy": "2021-12-15T07:31:08.923384Z",
     "iopub.status.idle": "2021-12-15T07:31:08.933012Z",
     "shell.execute_reply": "2021-12-15T07:31:08.932301Z",
     "shell.execute_reply.started": "2021-12-15T07:31:08.923577Z"
    }
   },
   "outputs": [],
   "source": [
    "import random"
   ]
  },
  {
   "cell_type": "code",
   "execution_count": 10,
   "metadata": {
    "execution": {
     "iopub.execute_input": "2021-12-15T07:31:08.935447Z",
     "iopub.status.busy": "2021-12-15T07:31:08.935206Z",
     "iopub.status.idle": "2021-12-15T07:31:08.944376Z",
     "shell.execute_reply": "2021-12-15T07:31:08.943672Z",
     "shell.execute_reply.started": "2021-12-15T07:31:08.935419Z"
    }
   },
   "outputs": [],
   "source": [
    "random.shuffle(data)"
   ]
  },
  {
   "cell_type": "code",
   "execution_count": 11,
   "metadata": {
    "execution": {
     "iopub.execute_input": "2021-12-15T07:31:08.94572Z",
     "iopub.status.busy": "2021-12-15T07:31:08.945498Z",
     "iopub.status.idle": "2021-12-15T07:31:08.955508Z",
     "shell.execute_reply": "2021-12-15T07:31:08.954841Z",
     "shell.execute_reply.started": "2021-12-15T07:31:08.945693Z"
    }
   },
   "outputs": [],
   "source": [
    "X=[]\n",
    "y=[]\n",
    "for feature,label in data:\n",
    "    X.append(feature)\n",
    "    y.append(label)"
   ]
  },
  {
   "cell_type": "code",
   "execution_count": 12,
   "metadata": {
    "execution": {
     "iopub.execute_input": "2021-12-15T07:31:08.957007Z",
     "iopub.status.busy": "2021-12-15T07:31:08.956814Z",
     "iopub.status.idle": "2021-12-15T07:31:08.965912Z",
     "shell.execute_reply": "2021-12-15T07:31:08.965301Z",
     "shell.execute_reply.started": "2021-12-15T07:31:08.956983Z"
    }
   },
   "outputs": [
    {
     "data": {
      "text/plain": [
       "1452"
      ]
     },
     "execution_count": 12,
     "metadata": {},
     "output_type": "execute_result"
    }
   ],
   "source": [
    "len(X)"
   ]
  },
  {
   "cell_type": "code",
   "execution_count": 13,
   "metadata": {
    "execution": {
     "iopub.execute_input": "2021-12-15T07:31:08.967456Z",
     "iopub.status.busy": "2021-12-15T07:31:08.96683Z",
     "iopub.status.idle": "2021-12-15T07:31:08.977637Z",
     "shell.execute_reply": "2021-12-15T07:31:08.977055Z",
     "shell.execute_reply.started": "2021-12-15T07:31:08.967424Z"
    }
   },
   "outputs": [
    {
     "data": {
      "text/plain": [
       "1452"
      ]
     },
     "execution_count": 13,
     "metadata": {},
     "output_type": "execute_result"
    }
   ],
   "source": [
    "len(y)"
   ]
  },
  {
   "cell_type": "code",
   "execution_count": 14,
   "metadata": {
    "execution": {
     "iopub.execute_input": "2021-12-15T07:32:39.353462Z",
     "iopub.status.busy": "2021-12-15T07:32:39.353161Z",
     "iopub.status.idle": "2021-12-15T07:32:39.463808Z",
     "shell.execute_reply": "2021-12-15T07:32:39.463079Z",
     "shell.execute_reply.started": "2021-12-15T07:32:39.353432Z"
    }
   },
   "outputs": [],
   "source": [
    "X=np.array(X)\n",
    "y=np.array(y)"
   ]
  },
  {
   "cell_type": "code",
   "execution_count": 15,
   "metadata": {
    "execution": {
     "iopub.execute_input": "2021-12-15T07:32:56.364375Z",
     "iopub.status.busy": "2021-12-15T07:32:56.364081Z",
     "iopub.status.idle": "2021-12-15T07:32:56.369519Z",
     "shell.execute_reply": "2021-12-15T07:32:56.368972Z",
     "shell.execute_reply.started": "2021-12-15T07:32:56.364335Z"
    }
   },
   "outputs": [
    {
     "data": {
      "text/plain": [
       "(1452, 244, 244, 3)"
      ]
     },
     "execution_count": 15,
     "metadata": {},
     "output_type": "execute_result"
    }
   ],
   "source": [
    "X.shape"
   ]
  },
  {
   "cell_type": "code",
   "execution_count": 16,
   "metadata": {
    "execution": {
     "iopub.execute_input": "2021-12-15T07:33:03.03512Z",
     "iopub.status.busy": "2021-12-15T07:33:03.034217Z",
     "iopub.status.idle": "2021-12-15T07:33:03.040586Z",
     "shell.execute_reply": "2021-12-15T07:33:03.039903Z",
     "shell.execute_reply.started": "2021-12-15T07:33:03.035073Z"
    }
   },
   "outputs": [
    {
     "data": {
      "text/plain": [
       "(1452,)"
      ]
     },
     "execution_count": 16,
     "metadata": {},
     "output_type": "execute_result"
    }
   ],
   "source": [
    "y.shape"
   ]
  },
  {
   "cell_type": "code",
   "execution_count": 17,
   "metadata": {
    "execution": {
     "iopub.execute_input": "2021-12-15T07:34:57.753542Z",
     "iopub.status.busy": "2021-12-15T07:34:57.753208Z",
     "iopub.status.idle": "2021-12-15T07:34:58.653507Z",
     "shell.execute_reply": "2021-12-15T07:34:58.652365Z",
     "shell.execute_reply.started": "2021-12-15T07:34:57.753508Z"
    }
   },
   "outputs": [],
   "source": [
    "X=X/255"
   ]
  },
  {
   "cell_type": "code",
   "execution_count": 18,
   "metadata": {
    "execution": {
     "iopub.execute_input": "2021-12-15T07:35:03.461334Z",
     "iopub.status.busy": "2021-12-15T07:35:03.459347Z",
     "iopub.status.idle": "2021-12-15T07:35:03.468275Z",
     "shell.execute_reply": "2021-12-15T07:35:03.467535Z",
     "shell.execute_reply.started": "2021-12-15T07:35:03.461294Z"
    }
   },
   "outputs": [
    {
     "data": {
      "text/plain": [
       "array([[[0.10588235, 0.13333333, 0.2627451 ],\n",
       "        [0.14509804, 0.17254902, 0.30196078],\n",
       "        [0.14901961, 0.17647059, 0.30588235],\n",
       "        ...,\n",
       "        [0.38823529, 0.48235294, 0.64705882],\n",
       "        [0.39607843, 0.49019608, 0.65490196],\n",
       "        [0.39607843, 0.49411765, 0.65098039]],\n",
       "\n",
       "       [[0.09411765, 0.12156863, 0.25098039],\n",
       "        [0.18431373, 0.21176471, 0.34117647],\n",
       "        [0.18823529, 0.21176471, 0.34117647],\n",
       "        ...,\n",
       "        [0.4       , 0.49411765, 0.65882353],\n",
       "        [0.41176471, 0.50588235, 0.67058824],\n",
       "        [0.4       , 0.49803922, 0.65490196]],\n",
       "\n",
       "       [[0.20392157, 0.23137255, 0.36078431],\n",
       "        [0.16078431, 0.19215686, 0.32156863],\n",
       "        [0.18431373, 0.21176471, 0.34117647],\n",
       "        ...,\n",
       "        [0.40784314, 0.50196078, 0.66666667],\n",
       "        [0.42352941, 0.51764706, 0.68235294],\n",
       "        [0.41176471, 0.50588235, 0.67058824]],\n",
       "\n",
       "       ...,\n",
       "\n",
       "       [[0.53333333, 0.65882353, 0.82745098],\n",
       "        [0.47843137, 0.60392157, 0.77254902],\n",
       "        [0.49411765, 0.6       , 0.77254902],\n",
       "        ...,\n",
       "        [0.58431373, 0.67843137, 0.85098039],\n",
       "        [0.58039216, 0.67058824, 0.84705882],\n",
       "        [0.59215686, 0.68235294, 0.85882353]],\n",
       "\n",
       "       [[0.50980392, 0.63529412, 0.8       ],\n",
       "        [0.48235294, 0.60784314, 0.77254902],\n",
       "        [0.47843137, 0.58431373, 0.75686275],\n",
       "        ...,\n",
       "        [0.60392157, 0.68627451, 0.8627451 ],\n",
       "        [0.60784314, 0.69019608, 0.86666667],\n",
       "        [0.61568627, 0.69803922, 0.8745098 ]],\n",
       "\n",
       "       [[0.49019608, 0.61960784, 0.77647059],\n",
       "        [0.49019608, 0.61568627, 0.78039216],\n",
       "        [0.48235294, 0.59607843, 0.77254902],\n",
       "        ...,\n",
       "        [0.59215686, 0.67843137, 0.85882353],\n",
       "        [0.6       , 0.68627451, 0.8627451 ],\n",
       "        [0.59607843, 0.68235294, 0.85882353]]])"
      ]
     },
     "execution_count": 18,
     "metadata": {},
     "output_type": "execute_result"
    }
   ],
   "source": [
    "X[0]"
   ]
  },
  {
   "cell_type": "code",
   "execution_count": 19,
   "metadata": {
    "execution": {
     "iopub.execute_input": "2021-12-15T07:37:06.634121Z",
     "iopub.status.busy": "2021-12-15T07:37:06.633178Z",
     "iopub.status.idle": "2021-12-15T07:37:07.468426Z",
     "shell.execute_reply": "2021-12-15T07:37:07.467527Z",
     "shell.execute_reply.started": "2021-12-15T07:37:06.634081Z"
    }
   },
   "outputs": [],
   "source": [
    "from sklearn.model_selection import train_test_split\n",
    "X_train, X_test, y_train, y_test= train_test_split(X, y, test_size=0.2)"
   ]
  },
  {
   "cell_type": "code",
   "execution_count": 20,
   "metadata": {
    "execution": {
     "iopub.execute_input": "2021-12-15T07:37:22.681796Z",
     "iopub.status.busy": "2021-12-15T07:37:22.681051Z",
     "iopub.status.idle": "2021-12-15T07:37:22.689138Z",
     "shell.execute_reply": "2021-12-15T07:37:22.688248Z",
     "shell.execute_reply.started": "2021-12-15T07:37:22.681747Z"
    }
   },
   "outputs": [
    {
     "data": {
      "text/plain": [
       "(1161, 244, 244, 3)"
      ]
     },
     "execution_count": 20,
     "metadata": {},
     "output_type": "execute_result"
    }
   ],
   "source": [
    "X_train.shape"
   ]
  },
  {
   "cell_type": "code",
   "execution_count": 21,
   "metadata": {
    "execution": {
     "iopub.execute_input": "2021-12-15T07:37:42.186549Z",
     "iopub.status.busy": "2021-12-15T07:37:42.185798Z",
     "iopub.status.idle": "2021-12-15T07:37:42.192553Z",
     "shell.execute_reply": "2021-12-15T07:37:42.191524Z",
     "shell.execute_reply.started": "2021-12-15T07:37:42.186508Z"
    }
   },
   "outputs": [
    {
     "data": {
      "text/plain": [
       "(291, 244, 244, 3)"
      ]
     },
     "execution_count": 21,
     "metadata": {},
     "output_type": "execute_result"
    }
   ],
   "source": [
    "X_test.shape"
   ]
  },
  {
   "cell_type": "code",
   "execution_count": 24,
   "metadata": {},
   "outputs": [
    {
     "name": "stdout",
     "output_type": "stream",
     "text": [
      "Collecting keras\n",
      "  Downloading keras-2.7.0-py2.py3-none-any.whl (1.3 MB)\n",
      "Installing collected packages: keras\n",
      "Successfully installed keras-2.7.0\n",
      "Note: you may need to restart the kernel to use updated packages.\n"
     ]
    }
   ],
   "source": [
    "pip install keras"
   ]
  },
  {
   "cell_type": "code",
   "execution_count": 25,
   "metadata": {
    "execution": {
     "iopub.execute_input": "2021-12-15T07:39:43.819906Z",
     "iopub.status.busy": "2021-12-15T07:39:43.81945Z",
     "iopub.status.idle": "2021-12-15T07:39:49.348224Z",
     "shell.execute_reply": "2021-12-15T07:39:49.347541Z",
     "shell.execute_reply.started": "2021-12-15T07:39:43.81986Z"
    }
   },
   "outputs": [
    {
     "ename": "ModuleNotFoundError",
     "evalue": "No module named 'tensorflow'",
     "output_type": "error",
     "traceback": [
      "\u001b[1;31m---------------------------------------------------------------------------\u001b[0m",
      "\u001b[1;31mModuleNotFoundError\u001b[0m                       Traceback (most recent call last)",
      "\u001b[1;32m<ipython-input-25-100259b4c450>\u001b[0m in \u001b[0;36m<module>\u001b[1;34m\u001b[0m\n\u001b[1;32m----> 1\u001b[1;33m \u001b[1;32mfrom\u001b[0m \u001b[0mkeras\u001b[0m\u001b[1;33m.\u001b[0m\u001b[0mapplications\u001b[0m\u001b[1;33m.\u001b[0m\u001b[0mvgg16\u001b[0m \u001b[1;32mimport\u001b[0m \u001b[0mVGG16\u001b[0m\u001b[1;33m\u001b[0m\u001b[1;33m\u001b[0m\u001b[0m\n\u001b[0m",
      "\u001b[1;32m~\\anaconda3\\lib\\site-packages\\keras\\__init__.py\u001b[0m in \u001b[0;36m<module>\u001b[1;34m\u001b[0m\n\u001b[0;32m     19\u001b[0m \"\"\"\n\u001b[0;32m     20\u001b[0m \u001b[1;31m# pylint: disable=unused-import\u001b[0m\u001b[1;33m\u001b[0m\u001b[1;33m\u001b[0m\u001b[1;33m\u001b[0m\u001b[0m\n\u001b[1;32m---> 21\u001b[1;33m \u001b[1;32mfrom\u001b[0m \u001b[0mtensorflow\u001b[0m\u001b[1;33m.\u001b[0m\u001b[0mpython\u001b[0m \u001b[1;32mimport\u001b[0m \u001b[0mtf2\u001b[0m\u001b[1;33m\u001b[0m\u001b[1;33m\u001b[0m\u001b[0m\n\u001b[0m\u001b[0;32m     22\u001b[0m \u001b[1;32mfrom\u001b[0m \u001b[0mkeras\u001b[0m \u001b[1;32mimport\u001b[0m \u001b[0mdistribute\u001b[0m\u001b[1;33m\u001b[0m\u001b[1;33m\u001b[0m\u001b[0m\n\u001b[0;32m     23\u001b[0m \u001b[1;33m\u001b[0m\u001b[0m\n",
      "\u001b[1;31mModuleNotFoundError\u001b[0m: No module named 'tensorflow'"
     ]
    }
   ],
   "source": [
    "from keras.applications.vgg16 import VGG16"
   ]
  },
  {
   "cell_type": "code",
   "execution_count": null,
   "metadata": {
    "execution": {
     "iopub.execute_input": "2021-12-15T07:40:00.953661Z",
     "iopub.status.busy": "2021-12-15T07:40:00.953385Z",
     "iopub.status.idle": "2021-12-15T07:40:05.83567Z",
     "shell.execute_reply": "2021-12-15T07:40:05.834896Z",
     "shell.execute_reply.started": "2021-12-15T07:40:00.95363Z"
    }
   },
   "outputs": [],
   "source": [
    "vgg=VGG16()"
   ]
  },
  {
   "cell_type": "code",
   "execution_count": null,
   "metadata": {
    "execution": {
     "iopub.execute_input": "2021-12-15T07:40:30.978268Z",
     "iopub.status.busy": "2021-12-15T07:40:30.977965Z",
     "iopub.status.idle": "2021-12-15T07:40:30.9954Z",
     "shell.execute_reply": "2021-12-15T07:40:30.99456Z",
     "shell.execute_reply.started": "2021-12-15T07:40:30.978225Z"
    }
   },
   "outputs": [],
   "source": [
    "vgg.summary()"
   ]
  },
  {
   "cell_type": "code",
   "execution_count": null,
   "metadata": {
    "execution": {
     "iopub.execute_input": "2021-12-15T07:41:06.785359Z",
     "iopub.status.busy": "2021-12-15T07:41:06.785052Z",
     "iopub.status.idle": "2021-12-15T07:41:06.789878Z",
     "shell.execute_reply": "2021-12-15T07:41:06.788773Z",
     "shell.execute_reply.started": "2021-12-15T07:41:06.785328Z"
    }
   },
   "outputs": [],
   "source": [
    "from keras import Sequential"
   ]
  },
  {
   "cell_type": "code",
   "execution_count": null,
   "metadata": {
    "execution": {
     "iopub.execute_input": "2021-12-15T07:41:27.424712Z",
     "iopub.status.busy": "2021-12-15T07:41:27.424409Z",
     "iopub.status.idle": "2021-12-15T07:41:27.432657Z",
     "shell.execute_reply": "2021-12-15T07:41:27.431687Z",
     "shell.execute_reply.started": "2021-12-15T07:41:27.424672Z"
    }
   },
   "outputs": [],
   "source": [
    "model=Sequential()"
   ]
  },
  {
   "cell_type": "code",
   "execution_count": null,
   "metadata": {
    "execution": {
     "iopub.execute_input": "2021-12-15T07:42:50.123107Z",
     "iopub.status.busy": "2021-12-15T07:42:50.122348Z",
     "iopub.status.idle": "2021-12-15T07:42:50.22223Z",
     "shell.execute_reply": "2021-12-15T07:42:50.22162Z",
     "shell.execute_reply.started": "2021-12-15T07:42:50.123068Z"
    }
   },
   "outputs": [],
   "source": [
    "for layer in vgg.layers[:-1]:\n",
    "    model.add(layer)"
   ]
  },
  {
   "cell_type": "code",
   "execution_count": null,
   "metadata": {
    "execution": {
     "iopub.execute_input": "2021-12-15T07:43:00.019394Z",
     "iopub.status.busy": "2021-12-15T07:43:00.018584Z",
     "iopub.status.idle": "2021-12-15T07:43:00.03571Z",
     "shell.execute_reply": "2021-12-15T07:43:00.034918Z",
     "shell.execute_reply.started": "2021-12-15T07:43:00.019344Z"
    }
   },
   "outputs": [],
   "source": [
    "model.summary()"
   ]
  },
  {
   "cell_type": "code",
   "execution_count": null,
   "metadata": {
    "execution": {
     "iopub.execute_input": "2021-12-15T07:44:07.09891Z",
     "iopub.status.busy": "2021-12-15T07:44:07.09862Z",
     "iopub.status.idle": "2021-12-15T07:44:07.104116Z",
     "shell.execute_reply": "2021-12-15T07:44:07.10317Z",
     "shell.execute_reply.started": "2021-12-15T07:44:07.098881Z"
    }
   },
   "outputs": [],
   "source": [
    "for layer in model.layers:\n",
    "    layer.trainable= False"
   ]
  },
  {
   "cell_type": "code",
   "execution_count": null,
   "metadata": {
    "execution": {
     "iopub.execute_input": "2021-12-15T07:44:16.300776Z",
     "iopub.status.busy": "2021-12-15T07:44:16.300101Z",
     "iopub.status.idle": "2021-12-15T07:44:16.315392Z",
     "shell.execute_reply": "2021-12-15T07:44:16.314676Z",
     "shell.execute_reply.started": "2021-12-15T07:44:16.300698Z"
    }
   },
   "outputs": [],
   "source": [
    "model.summary()"
   ]
  },
  {
   "cell_type": "code",
   "execution_count": null,
   "metadata": {
    "execution": {
     "iopub.execute_input": "2021-12-15T07:45:22.309165Z",
     "iopub.status.busy": "2021-12-15T07:45:22.308864Z",
     "iopub.status.idle": "2021-12-15T07:45:22.313954Z",
     "shell.execute_reply": "2021-12-15T07:45:22.312792Z",
     "shell.execute_reply.started": "2021-12-15T07:45:22.309133Z"
    }
   },
   "outputs": [],
   "source": [
    "from keras.layers import Dense"
   ]
  },
  {
   "cell_type": "code",
   "execution_count": null,
   "metadata": {
    "execution": {
     "iopub.execute_input": "2021-12-15T07:46:06.595891Z",
     "iopub.status.busy": "2021-12-15T07:46:06.595592Z",
     "iopub.status.idle": "2021-12-15T07:46:06.614166Z",
     "shell.execute_reply": "2021-12-15T07:46:06.613316Z",
     "shell.execute_reply.started": "2021-12-15T07:46:06.595858Z"
    }
   },
   "outputs": [],
   "source": [
    "model.add(Dense(1, activation='sigmoid'))"
   ]
  },
  {
   "cell_type": "code",
   "execution_count": null,
   "metadata": {
    "execution": {
     "iopub.execute_input": "2021-12-15T07:46:24.099587Z",
     "iopub.status.busy": "2021-12-15T07:46:24.098759Z",
     "iopub.status.idle": "2021-12-15T07:46:24.117365Z",
     "shell.execute_reply": "2021-12-15T07:46:24.116584Z",
     "shell.execute_reply.started": "2021-12-15T07:46:24.099539Z"
    }
   },
   "outputs": [],
   "source": [
    "model.summary()"
   ]
  },
  {
   "cell_type": "code",
   "execution_count": null,
   "metadata": {},
   "outputs": [],
   "source": [
    "#learning_rate=0.0001"
   ]
  },
  {
   "cell_type": "code",
   "execution_count": null,
   "metadata": {
    "execution": {
     "iopub.execute_input": "2021-12-15T07:48:55.584707Z",
     "iopub.status.busy": "2021-12-15T07:48:55.584401Z",
     "iopub.status.idle": "2021-12-15T07:48:55.603049Z",
     "shell.execute_reply": "2021-12-15T07:48:55.6022Z",
     "shell.execute_reply.started": "2021-12-15T07:48:55.584674Z"
    }
   },
   "outputs": [],
   "source": [
    "model.compile(optimizer='Adam', loss='binary_crossentropy', metrics=['accuracy'])"
   ]
  },
  {
   "cell_type": "code",
   "execution_count": null,
   "metadata": {
    "execution": {
     "iopub.execute_input": "2021-12-15T07:50:07.723182Z",
     "iopub.status.busy": "2021-12-15T07:50:07.722867Z",
     "iopub.status.idle": "2021-12-15T08:25:25.242901Z",
     "shell.execute_reply": "2021-12-15T08:25:25.242248Z",
     "shell.execute_reply.started": "2021-12-15T07:50:07.723139Z"
    }
   },
   "outputs": [],
   "source": [
    "model.fit(X_train, y_train, epochs=5, validation_data=(X_test, y_test))"
   ]
  },
  {
   "cell_type": "code",
   "execution_count": 23,
   "metadata": {
    "execution": {
     "iopub.execute_input": "2021-12-15T10:33:48.617842Z",
     "iopub.status.busy": "2021-12-15T10:33:48.616904Z",
     "iopub.status.idle": "2021-12-15T10:33:48.621505Z",
     "shell.execute_reply": "2021-12-15T10:33:48.620832Z",
     "shell.execute_reply.started": "2021-12-15T10:33:48.617786Z"
    }
   },
   "outputs": [],
   "source": [
    "cap=cv2.VideoCapture(0)"
   ]
  },
  {
   "cell_type": "code",
   "execution_count": null,
   "metadata": {},
   "outputs": [],
   "source": []
  }
 ],
 "metadata": {
  "kernelspec": {
   "display_name": "Python 3",
   "language": "python",
   "name": "python3"
  },
  "language_info": {
   "codemirror_mode": {
    "name": "ipython",
    "version": 3
   },
   "file_extension": ".py",
   "mimetype": "text/x-python",
   "name": "python",
   "nbconvert_exporter": "python",
   "pygments_lexer": "ipython3",
   "version": "3.8.8"
  }
 },
 "nbformat": 4,
 "nbformat_minor": 4
}
