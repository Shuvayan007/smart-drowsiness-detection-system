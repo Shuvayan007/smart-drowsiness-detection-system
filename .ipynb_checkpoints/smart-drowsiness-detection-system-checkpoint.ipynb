{
 "cells": [
  {
   "cell_type": "code",
   "execution_count": 1,
   "metadata": {
    "_cell_guid": "b1076dfc-b9ad-4769-8c92-a6c4dae69d19",
    "_uuid": "8f2839f25d086af736a60e9eeb907d3b93b6e0e5",
    "execution": {
     "iopub.execute_input": "2021-12-15T10:30:42.156452Z",
     "iopub.status.busy": "2021-12-15T10:30:42.15608Z",
     "iopub.status.idle": "2021-12-15T10:30:43.484995Z",
     "shell.execute_reply": "2021-12-15T10:30:43.483881Z",
     "shell.execute_reply.started": "2021-12-15T10:30:42.156354Z"
    },
    "jupyter": {
     "outputs_hidden": true
    }
   },
   "outputs": [],
   "source": [
    "import numpy as np\n",
    "import pandas as pd\n",
    "import os"
   ]
  },
  {
   "cell_type": "code",
   "execution_count": 2,
   "metadata": {
    "execution": {
     "iopub.execute_input": "2021-12-15T10:30:43.491179Z",
     "iopub.status.busy": "2021-12-15T10:30:43.490835Z",
     "iopub.status.idle": "2021-12-15T10:30:43.726163Z",
     "shell.execute_reply": "2021-12-15T10:30:43.725552Z",
     "shell.execute_reply.started": "2021-12-15T10:30:43.491138Z"
    }
   },
   "outputs": [],
   "source": [
    "import cv2"
   ]
  },
  {
   "cell_type": "code",
   "execution_count": 3,
   "metadata": {
    "execution": {
     "iopub.execute_input": "2021-12-15T07:30:56.122068Z",
     "iopub.status.busy": "2021-12-15T07:30:56.121833Z",
     "iopub.status.idle": "2021-12-15T07:30:56.12668Z",
     "shell.execute_reply": "2021-12-15T07:30:56.125716Z",
     "shell.execute_reply.started": "2021-12-15T07:30:56.122038Z"
    }
   },
   "outputs": [],
   "source": [
    "labels=os.listdir('train')"
   ]
  },
  {
   "cell_type": "code",
   "execution_count": 4,
   "metadata": {
    "execution": {
     "iopub.execute_input": "2021-12-15T07:30:56.128944Z",
     "iopub.status.busy": "2021-12-15T07:30:56.128618Z",
     "iopub.status.idle": "2021-12-15T07:30:56.142586Z",
     "shell.execute_reply": "2021-12-15T07:30:56.141694Z",
     "shell.execute_reply.started": "2021-12-15T07:30:56.128916Z"
    }
   },
   "outputs": [
    {
     "data": {
      "text/plain": [
       "['Closed', 'no_yawn', 'Open', 'yawn']"
      ]
     },
     "execution_count": 4,
     "metadata": {},
     "output_type": "execute_result"
    }
   ],
   "source": [
    "labels"
   ]
  },
  {
   "cell_type": "code",
   "execution_count": null,
   "metadata": {},
   "outputs": [],
   "source": []
  },
  {
   "cell_type": "code",
   "execution_count": 5,
   "metadata": {
    "execution": {
     "iopub.execute_input": "2021-12-15T07:30:56.144524Z",
     "iopub.status.busy": "2021-12-15T07:30:56.144047Z",
     "iopub.status.idle": "2021-12-15T07:30:56.188061Z",
     "shell.execute_reply": "2021-12-15T07:30:56.187138Z",
     "shell.execute_reply.started": "2021-12-15T07:30:56.144482Z"
    }
   },
   "outputs": [
    {
     "data": {
      "text/plain": [
       "653184"
      ]
     },
     "execution_count": 5,
     "metadata": {},
     "output_type": "execute_result"
    }
   ],
   "source": [
    "import matplotlib.pyplot as plt\n",
    "(plt.imread('train/Open/_300.jpg')).size"
   ]
  },
  {
   "cell_type": "code",
   "execution_count": 6,
   "metadata": {
    "execution": {
     "iopub.execute_input": "2021-12-15T07:30:56.190294Z",
     "iopub.status.busy": "2021-12-15T07:30:56.189947Z",
     "iopub.status.idle": "2021-12-15T07:30:56.194975Z",
     "shell.execute_reply": "2021-12-15T07:30:56.193999Z",
     "shell.execute_reply.started": "2021-12-15T07:30:56.19019Z"
    }
   },
   "outputs": [],
   "source": [
    "categories=['Open','Closed']"
   ]
  },
  {
   "cell_type": "code",
   "execution_count": 7,
   "metadata": {
    "execution": {
     "iopub.execute_input": "2021-12-15T07:30:56.197527Z",
     "iopub.status.busy": "2021-12-15T07:30:56.196831Z",
     "iopub.status.idle": "2021-12-15T07:31:08.912775Z",
     "shell.execute_reply": "2021-12-15T07:31:08.911972Z",
     "shell.execute_reply.started": "2021-12-15T07:30:56.197483Z"
    }
   },
   "outputs": [],
   "source": [
    "data=[]\n",
    "for category in categories:\n",
    "    path=os.path.join('train', category)\n",
    "    \n",
    "    label=categories.index(category)\n",
    "    \n",
    "    for file in os.listdir(path):\n",
    "        \n",
    "        img_path=os.path.join(path,file)\n",
    "        img=cv2.imread(img_path)\n",
    "        img=cv2.resize(img, (224,224))\n",
    "        \n",
    "        data.append([img, label])"
   ]
  },
  {
   "cell_type": "code",
   "execution_count": 8,
   "metadata": {
    "execution": {
     "iopub.execute_input": "2021-12-15T07:31:08.915932Z",
     "iopub.status.busy": "2021-12-15T07:31:08.913851Z",
     "iopub.status.idle": "2021-12-15T07:31:08.922137Z",
     "shell.execute_reply": "2021-12-15T07:31:08.921266Z",
     "shell.execute_reply.started": "2021-12-15T07:31:08.915893Z"
    }
   },
   "outputs": [
    {
     "data": {
      "text/plain": [
       "1452"
      ]
     },
     "execution_count": 8,
     "metadata": {},
     "output_type": "execute_result"
    }
   ],
   "source": [
    "len(data)"
   ]
  },
  {
   "cell_type": "code",
   "execution_count": 9,
   "metadata": {
    "execution": {
     "iopub.execute_input": "2021-12-15T07:31:08.923603Z",
     "iopub.status.busy": "2021-12-15T07:31:08.923384Z",
     "iopub.status.idle": "2021-12-15T07:31:08.933012Z",
     "shell.execute_reply": "2021-12-15T07:31:08.932301Z",
     "shell.execute_reply.started": "2021-12-15T07:31:08.923577Z"
    }
   },
   "outputs": [],
   "source": [
    "import random"
   ]
  },
  {
   "cell_type": "code",
   "execution_count": 10,
   "metadata": {
    "execution": {
     "iopub.execute_input": "2021-12-15T07:31:08.935447Z",
     "iopub.status.busy": "2021-12-15T07:31:08.935206Z",
     "iopub.status.idle": "2021-12-15T07:31:08.944376Z",
     "shell.execute_reply": "2021-12-15T07:31:08.943672Z",
     "shell.execute_reply.started": "2021-12-15T07:31:08.935419Z"
    }
   },
   "outputs": [],
   "source": [
    "random.shuffle(data)"
   ]
  },
  {
   "cell_type": "code",
   "execution_count": 11,
   "metadata": {
    "execution": {
     "iopub.execute_input": "2021-12-15T07:31:08.94572Z",
     "iopub.status.busy": "2021-12-15T07:31:08.945498Z",
     "iopub.status.idle": "2021-12-15T07:31:08.955508Z",
     "shell.execute_reply": "2021-12-15T07:31:08.954841Z",
     "shell.execute_reply.started": "2021-12-15T07:31:08.945693Z"
    }
   },
   "outputs": [],
   "source": [
    "X=[]\n",
    "y=[]\n",
    "for feature,label in data:\n",
    "    X.append(feature)\n",
    "    y.append(label)"
   ]
  },
  {
   "cell_type": "code",
   "execution_count": 12,
   "metadata": {
    "execution": {
     "iopub.execute_input": "2021-12-15T07:31:08.957007Z",
     "iopub.status.busy": "2021-12-15T07:31:08.956814Z",
     "iopub.status.idle": "2021-12-15T07:31:08.965912Z",
     "shell.execute_reply": "2021-12-15T07:31:08.965301Z",
     "shell.execute_reply.started": "2021-12-15T07:31:08.956983Z"
    }
   },
   "outputs": [
    {
     "data": {
      "text/plain": [
       "1452"
      ]
     },
     "execution_count": 12,
     "metadata": {},
     "output_type": "execute_result"
    }
   ],
   "source": [
    "len(X)"
   ]
  },
  {
   "cell_type": "code",
   "execution_count": 13,
   "metadata": {
    "execution": {
     "iopub.execute_input": "2021-12-15T07:31:08.967456Z",
     "iopub.status.busy": "2021-12-15T07:31:08.96683Z",
     "iopub.status.idle": "2021-12-15T07:31:08.977637Z",
     "shell.execute_reply": "2021-12-15T07:31:08.977055Z",
     "shell.execute_reply.started": "2021-12-15T07:31:08.967424Z"
    }
   },
   "outputs": [
    {
     "data": {
      "text/plain": [
       "1452"
      ]
     },
     "execution_count": 13,
     "metadata": {},
     "output_type": "execute_result"
    }
   ],
   "source": [
    "len(y)"
   ]
  },
  {
   "cell_type": "code",
   "execution_count": 14,
   "metadata": {
    "execution": {
     "iopub.execute_input": "2021-12-15T07:32:39.353462Z",
     "iopub.status.busy": "2021-12-15T07:32:39.353161Z",
     "iopub.status.idle": "2021-12-15T07:32:39.463808Z",
     "shell.execute_reply": "2021-12-15T07:32:39.463079Z",
     "shell.execute_reply.started": "2021-12-15T07:32:39.353432Z"
    }
   },
   "outputs": [],
   "source": [
    "X=np.array(X)\n",
    "y=np.array(y)"
   ]
  },
  {
   "cell_type": "code",
   "execution_count": 15,
   "metadata": {
    "execution": {
     "iopub.execute_input": "2021-12-15T07:32:56.364375Z",
     "iopub.status.busy": "2021-12-15T07:32:56.364081Z",
     "iopub.status.idle": "2021-12-15T07:32:56.369519Z",
     "shell.execute_reply": "2021-12-15T07:32:56.368972Z",
     "shell.execute_reply.started": "2021-12-15T07:32:56.364335Z"
    }
   },
   "outputs": [
    {
     "data": {
      "text/plain": [
       "(1452, 224, 224, 3)"
      ]
     },
     "execution_count": 15,
     "metadata": {},
     "output_type": "execute_result"
    }
   ],
   "source": [
    "X.shape"
   ]
  },
  {
   "cell_type": "code",
   "execution_count": 16,
   "metadata": {
    "execution": {
     "iopub.execute_input": "2021-12-15T07:33:03.03512Z",
     "iopub.status.busy": "2021-12-15T07:33:03.034217Z",
     "iopub.status.idle": "2021-12-15T07:33:03.040586Z",
     "shell.execute_reply": "2021-12-15T07:33:03.039903Z",
     "shell.execute_reply.started": "2021-12-15T07:33:03.035073Z"
    }
   },
   "outputs": [
    {
     "data": {
      "text/plain": [
       "(1452,)"
      ]
     },
     "execution_count": 16,
     "metadata": {},
     "output_type": "execute_result"
    }
   ],
   "source": [
    "y.shape"
   ]
  },
  {
   "cell_type": "code",
   "execution_count": 17,
   "metadata": {
    "execution": {
     "iopub.execute_input": "2021-12-15T07:34:57.753542Z",
     "iopub.status.busy": "2021-12-15T07:34:57.753208Z",
     "iopub.status.idle": "2021-12-15T07:34:58.653507Z",
     "shell.execute_reply": "2021-12-15T07:34:58.652365Z",
     "shell.execute_reply.started": "2021-12-15T07:34:57.753508Z"
    }
   },
   "outputs": [],
   "source": [
    "X=X/255"
   ]
  },
  {
   "cell_type": "code",
   "execution_count": 18,
   "metadata": {
    "execution": {
     "iopub.execute_input": "2021-12-15T07:35:03.461334Z",
     "iopub.status.busy": "2021-12-15T07:35:03.459347Z",
     "iopub.status.idle": "2021-12-15T07:35:03.468275Z",
     "shell.execute_reply": "2021-12-15T07:35:03.467535Z",
     "shell.execute_reply.started": "2021-12-15T07:35:03.461294Z"
    }
   },
   "outputs": [
    {
     "data": {
      "text/plain": [
       "array([[[0.24313725, 0.23529412, 0.25882353],\n",
       "        [0.24313725, 0.23137255, 0.25490196],\n",
       "        [0.23529412, 0.22745098, 0.25098039],\n",
       "        ...,\n",
       "        [0.34901961, 0.38431373, 0.51372549],\n",
       "        [0.35294118, 0.38823529, 0.51764706],\n",
       "        [0.35294118, 0.38823529, 0.51764706]],\n",
       "\n",
       "       [[0.24313725, 0.23529412, 0.25882353],\n",
       "        [0.25490196, 0.24705882, 0.27058824],\n",
       "        [0.2627451 , 0.25490196, 0.27843137],\n",
       "        ...,\n",
       "        [0.34509804, 0.38039216, 0.50980392],\n",
       "        [0.34901961, 0.38431373, 0.51372549],\n",
       "        [0.35294118, 0.38823529, 0.51764706]],\n",
       "\n",
       "       [[0.2627451 , 0.25490196, 0.27843137],\n",
       "        [0.23137255, 0.22352941, 0.24705882],\n",
       "        [0.24313725, 0.23529412, 0.25882353],\n",
       "        ...,\n",
       "        [0.34509804, 0.38039216, 0.50980392],\n",
       "        [0.34901961, 0.38431373, 0.51372549],\n",
       "        [0.35294118, 0.38823529, 0.51764706]],\n",
       "\n",
       "       ...,\n",
       "\n",
       "       [[0.2745098 , 0.30196078, 0.37647059],\n",
       "        [0.26666667, 0.29411765, 0.36862745],\n",
       "        [0.25490196, 0.27843137, 0.35686275],\n",
       "        ...,\n",
       "        [0.24705882, 0.29411765, 0.40392157],\n",
       "        [0.24313725, 0.28627451, 0.39607843],\n",
       "        [0.24313725, 0.28627451, 0.39607843]],\n",
       "\n",
       "       [[0.28235294, 0.31764706, 0.38823529],\n",
       "        [0.26666667, 0.29411765, 0.36862745],\n",
       "        [0.26666667, 0.29411765, 0.36862745],\n",
       "        ...,\n",
       "        [0.25490196, 0.29803922, 0.40784314],\n",
       "        [0.24313725, 0.28627451, 0.39607843],\n",
       "        [0.24705882, 0.29019608, 0.4       ]],\n",
       "\n",
       "       [[0.2745098 , 0.31764706, 0.38431373],\n",
       "        [0.25098039, 0.28627451, 0.35686275],\n",
       "        [0.2627451 , 0.29019608, 0.36470588],\n",
       "        ...,\n",
       "        [0.24313725, 0.28627451, 0.39607843],\n",
       "        [0.23137255, 0.2745098 , 0.38431373],\n",
       "        [0.23921569, 0.28627451, 0.39607843]]])"
      ]
     },
     "execution_count": 18,
     "metadata": {},
     "output_type": "execute_result"
    }
   ],
   "source": [
    "X[0]"
   ]
  },
  {
   "cell_type": "code",
   "execution_count": 19,
   "metadata": {
    "execution": {
     "iopub.execute_input": "2021-12-15T07:37:06.634121Z",
     "iopub.status.busy": "2021-12-15T07:37:06.633178Z",
     "iopub.status.idle": "2021-12-15T07:37:07.468426Z",
     "shell.execute_reply": "2021-12-15T07:37:07.467527Z",
     "shell.execute_reply.started": "2021-12-15T07:37:06.634081Z"
    }
   },
   "outputs": [],
   "source": [
    "from sklearn.model_selection import train_test_split\n",
    "X_train, X_test, y_train, y_test= train_test_split(X, y, test_size=0.2)"
   ]
  },
  {
   "cell_type": "code",
   "execution_count": 20,
   "metadata": {
    "execution": {
     "iopub.execute_input": "2021-12-15T07:37:22.681796Z",
     "iopub.status.busy": "2021-12-15T07:37:22.681051Z",
     "iopub.status.idle": "2021-12-15T07:37:22.689138Z",
     "shell.execute_reply": "2021-12-15T07:37:22.688248Z",
     "shell.execute_reply.started": "2021-12-15T07:37:22.681747Z"
    }
   },
   "outputs": [
    {
     "data": {
      "text/plain": [
       "(1161, 224, 224, 3)"
      ]
     },
     "execution_count": 20,
     "metadata": {},
     "output_type": "execute_result"
    }
   ],
   "source": [
    "X_train.shape"
   ]
  },
  {
   "cell_type": "code",
   "execution_count": 21,
   "metadata": {
    "execution": {
     "iopub.execute_input": "2021-12-15T07:37:42.186549Z",
     "iopub.status.busy": "2021-12-15T07:37:42.185798Z",
     "iopub.status.idle": "2021-12-15T07:37:42.192553Z",
     "shell.execute_reply": "2021-12-15T07:37:42.191524Z",
     "shell.execute_reply.started": "2021-12-15T07:37:42.186508Z"
    }
   },
   "outputs": [
    {
     "data": {
      "text/plain": [
       "(291, 224, 224, 3)"
      ]
     },
     "execution_count": 21,
     "metadata": {},
     "output_type": "execute_result"
    }
   ],
   "source": [
    "X_test.shape"
   ]
  },
  {
   "cell_type": "code",
   "execution_count": 22,
   "metadata": {
    "execution": {
     "iopub.execute_input": "2021-12-15T07:39:43.819906Z",
     "iopub.status.busy": "2021-12-15T07:39:43.81945Z",
     "iopub.status.idle": "2021-12-15T07:39:49.348224Z",
     "shell.execute_reply": "2021-12-15T07:39:49.347541Z",
     "shell.execute_reply.started": "2021-12-15T07:39:43.81986Z"
    }
   },
   "outputs": [],
   "source": [
    "from keras.applications.vgg16 import VGG16"
   ]
  },
  {
   "cell_type": "code",
   "execution_count": 23,
   "metadata": {
    "execution": {
     "iopub.execute_input": "2021-12-15T07:40:00.953661Z",
     "iopub.status.busy": "2021-12-15T07:40:00.953385Z",
     "iopub.status.idle": "2021-12-15T07:40:05.83567Z",
     "shell.execute_reply": "2021-12-15T07:40:05.834896Z",
     "shell.execute_reply.started": "2021-12-15T07:40:00.95363Z"
    }
   },
   "outputs": [],
   "source": [
    "vgg=VGG16()"
   ]
  },
  {
   "cell_type": "code",
   "execution_count": 24,
   "metadata": {
    "execution": {
     "iopub.execute_input": "2021-12-15T07:40:30.978268Z",
     "iopub.status.busy": "2021-12-15T07:40:30.977965Z",
     "iopub.status.idle": "2021-12-15T07:40:30.9954Z",
     "shell.execute_reply": "2021-12-15T07:40:30.99456Z",
     "shell.execute_reply.started": "2021-12-15T07:40:30.978225Z"
    }
   },
   "outputs": [
    {
     "name": "stdout",
     "output_type": "stream",
     "text": [
      "Model: \"vgg16\"\n",
      "_________________________________________________________________\n",
      " Layer (type)                Output Shape              Param #   \n",
      "=================================================================\n",
      " input_1 (InputLayer)        [(None, 224, 224, 3)]     0         \n",
      "                                                                 \n",
      " block1_conv1 (Conv2D)       (None, 224, 224, 64)      1792      \n",
      "                                                                 \n",
      " block1_conv2 (Conv2D)       (None, 224, 224, 64)      36928     \n",
      "                                                                 \n",
      " block1_pool (MaxPooling2D)  (None, 112, 112, 64)      0         \n",
      "                                                                 \n",
      " block2_conv1 (Conv2D)       (None, 112, 112, 128)     73856     \n",
      "                                                                 \n",
      " block2_conv2 (Conv2D)       (None, 112, 112, 128)     147584    \n",
      "                                                                 \n",
      " block2_pool (MaxPooling2D)  (None, 56, 56, 128)       0         \n",
      "                                                                 \n",
      " block3_conv1 (Conv2D)       (None, 56, 56, 256)       295168    \n",
      "                                                                 \n",
      " block3_conv2 (Conv2D)       (None, 56, 56, 256)       590080    \n",
      "                                                                 \n",
      " block3_conv3 (Conv2D)       (None, 56, 56, 256)       590080    \n",
      "                                                                 \n",
      " block3_pool (MaxPooling2D)  (None, 28, 28, 256)       0         \n",
      "                                                                 \n",
      " block4_conv1 (Conv2D)       (None, 28, 28, 512)       1180160   \n",
      "                                                                 \n",
      " block4_conv2 (Conv2D)       (None, 28, 28, 512)       2359808   \n",
      "                                                                 \n",
      " block4_conv3 (Conv2D)       (None, 28, 28, 512)       2359808   \n",
      "                                                                 \n",
      " block4_pool (MaxPooling2D)  (None, 14, 14, 512)       0         \n",
      "                                                                 \n",
      " block5_conv1 (Conv2D)       (None, 14, 14, 512)       2359808   \n",
      "                                                                 \n",
      " block5_conv2 (Conv2D)       (None, 14, 14, 512)       2359808   \n",
      "                                                                 \n",
      " block5_conv3 (Conv2D)       (None, 14, 14, 512)       2359808   \n",
      "                                                                 \n",
      " block5_pool (MaxPooling2D)  (None, 7, 7, 512)         0         \n",
      "                                                                 \n",
      " flatten (Flatten)           (None, 25088)             0         \n",
      "                                                                 \n",
      " fc1 (Dense)                 (None, 4096)              102764544 \n",
      "                                                                 \n",
      " fc2 (Dense)                 (None, 4096)              16781312  \n",
      "                                                                 \n",
      " predictions (Dense)         (None, 1000)              4097000   \n",
      "                                                                 \n",
      "=================================================================\n",
      "Total params: 138,357,544\n",
      "Trainable params: 138,357,544\n",
      "Non-trainable params: 0\n",
      "_________________________________________________________________\n"
     ]
    }
   ],
   "source": [
    "vgg.summary()"
   ]
  },
  {
   "cell_type": "code",
   "execution_count": 25,
   "metadata": {
    "execution": {
     "iopub.execute_input": "2021-12-15T07:41:06.785359Z",
     "iopub.status.busy": "2021-12-15T07:41:06.785052Z",
     "iopub.status.idle": "2021-12-15T07:41:06.789878Z",
     "shell.execute_reply": "2021-12-15T07:41:06.788773Z",
     "shell.execute_reply.started": "2021-12-15T07:41:06.785328Z"
    }
   },
   "outputs": [],
   "source": [
    "from keras import Sequential"
   ]
  },
  {
   "cell_type": "code",
   "execution_count": 26,
   "metadata": {
    "execution": {
     "iopub.execute_input": "2021-12-15T07:41:27.424712Z",
     "iopub.status.busy": "2021-12-15T07:41:27.424409Z",
     "iopub.status.idle": "2021-12-15T07:41:27.432657Z",
     "shell.execute_reply": "2021-12-15T07:41:27.431687Z",
     "shell.execute_reply.started": "2021-12-15T07:41:27.424672Z"
    }
   },
   "outputs": [],
   "source": [
    "model=Sequential()"
   ]
  },
  {
   "cell_type": "code",
   "execution_count": 27,
   "metadata": {
    "execution": {
     "iopub.execute_input": "2021-12-15T07:42:50.123107Z",
     "iopub.status.busy": "2021-12-15T07:42:50.122348Z",
     "iopub.status.idle": "2021-12-15T07:42:50.22223Z",
     "shell.execute_reply": "2021-12-15T07:42:50.22162Z",
     "shell.execute_reply.started": "2021-12-15T07:42:50.123068Z"
    }
   },
   "outputs": [],
   "source": [
    "for layer in vgg.layers[:-1]:\n",
    "    model.add(layer)"
   ]
  },
  {
   "cell_type": "code",
   "execution_count": 28,
   "metadata": {
    "execution": {
     "iopub.execute_input": "2021-12-15T07:43:00.019394Z",
     "iopub.status.busy": "2021-12-15T07:43:00.018584Z",
     "iopub.status.idle": "2021-12-15T07:43:00.03571Z",
     "shell.execute_reply": "2021-12-15T07:43:00.034918Z",
     "shell.execute_reply.started": "2021-12-15T07:43:00.019344Z"
    }
   },
   "outputs": [
    {
     "name": "stdout",
     "output_type": "stream",
     "text": [
      "Model: \"sequential\"\n",
      "_________________________________________________________________\n",
      " Layer (type)                Output Shape              Param #   \n",
      "=================================================================\n",
      " block1_conv1 (Conv2D)       (None, 224, 224, 64)      1792      \n",
      "                                                                 \n",
      " block1_conv2 (Conv2D)       (None, 224, 224, 64)      36928     \n",
      "                                                                 \n",
      " block1_pool (MaxPooling2D)  (None, 112, 112, 64)      0         \n",
      "                                                                 \n",
      " block2_conv1 (Conv2D)       (None, 112, 112, 128)     73856     \n",
      "                                                                 \n",
      " block2_conv2 (Conv2D)       (None, 112, 112, 128)     147584    \n",
      "                                                                 \n",
      " block2_pool (MaxPooling2D)  (None, 56, 56, 128)       0         \n",
      "                                                                 \n",
      " block3_conv1 (Conv2D)       (None, 56, 56, 256)       295168    \n",
      "                                                                 \n",
      " block3_conv2 (Conv2D)       (None, 56, 56, 256)       590080    \n",
      "                                                                 \n",
      " block3_conv3 (Conv2D)       (None, 56, 56, 256)       590080    \n",
      "                                                                 \n",
      " block3_pool (MaxPooling2D)  (None, 28, 28, 256)       0         \n",
      "                                                                 \n",
      " block4_conv1 (Conv2D)       (None, 28, 28, 512)       1180160   \n",
      "                                                                 \n",
      " block4_conv2 (Conv2D)       (None, 28, 28, 512)       2359808   \n",
      "                                                                 \n",
      " block4_conv3 (Conv2D)       (None, 28, 28, 512)       2359808   \n",
      "                                                                 \n",
      " block4_pool (MaxPooling2D)  (None, 14, 14, 512)       0         \n",
      "                                                                 \n",
      " block5_conv1 (Conv2D)       (None, 14, 14, 512)       2359808   \n",
      "                                                                 \n",
      " block5_conv2 (Conv2D)       (None, 14, 14, 512)       2359808   \n",
      "                                                                 \n",
      " block5_conv3 (Conv2D)       (None, 14, 14, 512)       2359808   \n",
      "                                                                 \n",
      " block5_pool (MaxPooling2D)  (None, 7, 7, 512)         0         \n",
      "                                                                 \n",
      " flatten (Flatten)           (None, 25088)             0         \n",
      "                                                                 \n",
      " fc1 (Dense)                 (None, 4096)              102764544 \n",
      "                                                                 \n",
      " fc2 (Dense)                 (None, 4096)              16781312  \n",
      "                                                                 \n",
      "=================================================================\n",
      "Total params: 134,260,544\n",
      "Trainable params: 134,260,544\n",
      "Non-trainable params: 0\n",
      "_________________________________________________________________\n"
     ]
    }
   ],
   "source": [
    "model.summary()"
   ]
  },
  {
   "cell_type": "code",
   "execution_count": 29,
   "metadata": {
    "execution": {
     "iopub.execute_input": "2021-12-15T07:44:07.09891Z",
     "iopub.status.busy": "2021-12-15T07:44:07.09862Z",
     "iopub.status.idle": "2021-12-15T07:44:07.104116Z",
     "shell.execute_reply": "2021-12-15T07:44:07.10317Z",
     "shell.execute_reply.started": "2021-12-15T07:44:07.098881Z"
    }
   },
   "outputs": [],
   "source": [
    "for layer in model.layers:\n",
    "    layer.trainable= False"
   ]
  },
  {
   "cell_type": "code",
   "execution_count": 30,
   "metadata": {
    "execution": {
     "iopub.execute_input": "2021-12-15T07:44:16.300776Z",
     "iopub.status.busy": "2021-12-15T07:44:16.300101Z",
     "iopub.status.idle": "2021-12-15T07:44:16.315392Z",
     "shell.execute_reply": "2021-12-15T07:44:16.314676Z",
     "shell.execute_reply.started": "2021-12-15T07:44:16.300698Z"
    }
   },
   "outputs": [
    {
     "name": "stdout",
     "output_type": "stream",
     "text": [
      "Model: \"sequential\"\n",
      "_________________________________________________________________\n",
      " Layer (type)                Output Shape              Param #   \n",
      "=================================================================\n",
      " block1_conv1 (Conv2D)       (None, 224, 224, 64)      1792      \n",
      "                                                                 \n",
      " block1_conv2 (Conv2D)       (None, 224, 224, 64)      36928     \n",
      "                                                                 \n",
      " block1_pool (MaxPooling2D)  (None, 112, 112, 64)      0         \n",
      "                                                                 \n",
      " block2_conv1 (Conv2D)       (None, 112, 112, 128)     73856     \n",
      "                                                                 \n",
      " block2_conv2 (Conv2D)       (None, 112, 112, 128)     147584    \n",
      "                                                                 \n",
      " block2_pool (MaxPooling2D)  (None, 56, 56, 128)       0         \n",
      "                                                                 \n",
      " block3_conv1 (Conv2D)       (None, 56, 56, 256)       295168    \n",
      "                                                                 \n",
      " block3_conv2 (Conv2D)       (None, 56, 56, 256)       590080    \n",
      "                                                                 \n",
      " block3_conv3 (Conv2D)       (None, 56, 56, 256)       590080    \n",
      "                                                                 \n",
      " block3_pool (MaxPooling2D)  (None, 28, 28, 256)       0         \n",
      "                                                                 \n",
      " block4_conv1 (Conv2D)       (None, 28, 28, 512)       1180160   \n",
      "                                                                 \n",
      " block4_conv2 (Conv2D)       (None, 28, 28, 512)       2359808   \n",
      "                                                                 \n",
      " block4_conv3 (Conv2D)       (None, 28, 28, 512)       2359808   \n",
      "                                                                 \n",
      " block4_pool (MaxPooling2D)  (None, 14, 14, 512)       0         \n",
      "                                                                 \n",
      " block5_conv1 (Conv2D)       (None, 14, 14, 512)       2359808   \n",
      "                                                                 \n",
      " block5_conv2 (Conv2D)       (None, 14, 14, 512)       2359808   \n",
      "                                                                 \n",
      " block5_conv3 (Conv2D)       (None, 14, 14, 512)       2359808   \n",
      "                                                                 \n",
      " block5_pool (MaxPooling2D)  (None, 7, 7, 512)         0         \n",
      "                                                                 \n",
      " flatten (Flatten)           (None, 25088)             0         \n",
      "                                                                 \n",
      " fc1 (Dense)                 (None, 4096)              102764544 \n",
      "                                                                 \n",
      " fc2 (Dense)                 (None, 4096)              16781312  \n",
      "                                                                 \n",
      "=================================================================\n",
      "Total params: 134,260,544\n",
      "Trainable params: 0\n",
      "Non-trainable params: 134,260,544\n",
      "_________________________________________________________________\n"
     ]
    }
   ],
   "source": [
    "model.summary()"
   ]
  },
  {
   "cell_type": "code",
   "execution_count": 31,
   "metadata": {
    "execution": {
     "iopub.execute_input": "2021-12-15T07:45:22.309165Z",
     "iopub.status.busy": "2021-12-15T07:45:22.308864Z",
     "iopub.status.idle": "2021-12-15T07:45:22.313954Z",
     "shell.execute_reply": "2021-12-15T07:45:22.312792Z",
     "shell.execute_reply.started": "2021-12-15T07:45:22.309133Z"
    }
   },
   "outputs": [],
   "source": [
    "from keras.layers import Dense"
   ]
  },
  {
   "cell_type": "code",
   "execution_count": 32,
   "metadata": {
    "execution": {
     "iopub.execute_input": "2021-12-15T07:46:06.595891Z",
     "iopub.status.busy": "2021-12-15T07:46:06.595592Z",
     "iopub.status.idle": "2021-12-15T07:46:06.614166Z",
     "shell.execute_reply": "2021-12-15T07:46:06.613316Z",
     "shell.execute_reply.started": "2021-12-15T07:46:06.595858Z"
    }
   },
   "outputs": [],
   "source": [
    "model.add(Dense(1, activation='sigmoid'))"
   ]
  },
  {
   "cell_type": "code",
   "execution_count": 33,
   "metadata": {
    "execution": {
     "iopub.execute_input": "2021-12-15T07:46:24.099587Z",
     "iopub.status.busy": "2021-12-15T07:46:24.098759Z",
     "iopub.status.idle": "2021-12-15T07:46:24.117365Z",
     "shell.execute_reply": "2021-12-15T07:46:24.116584Z",
     "shell.execute_reply.started": "2021-12-15T07:46:24.099539Z"
    }
   },
   "outputs": [
    {
     "name": "stdout",
     "output_type": "stream",
     "text": [
      "Model: \"sequential\"\n",
      "_________________________________________________________________\n",
      " Layer (type)                Output Shape              Param #   \n",
      "=================================================================\n",
      " block1_conv1 (Conv2D)       (None, 224, 224, 64)      1792      \n",
      "                                                                 \n",
      " block1_conv2 (Conv2D)       (None, 224, 224, 64)      36928     \n",
      "                                                                 \n",
      " block1_pool (MaxPooling2D)  (None, 112, 112, 64)      0         \n",
      "                                                                 \n",
      " block2_conv1 (Conv2D)       (None, 112, 112, 128)     73856     \n",
      "                                                                 \n",
      " block2_conv2 (Conv2D)       (None, 112, 112, 128)     147584    \n",
      "                                                                 \n",
      " block2_pool (MaxPooling2D)  (None, 56, 56, 128)       0         \n",
      "                                                                 \n",
      " block3_conv1 (Conv2D)       (None, 56, 56, 256)       295168    \n",
      "                                                                 \n",
      " block3_conv2 (Conv2D)       (None, 56, 56, 256)       590080    \n",
      "                                                                 \n",
      " block3_conv3 (Conv2D)       (None, 56, 56, 256)       590080    \n",
      "                                                                 \n",
      " block3_pool (MaxPooling2D)  (None, 28, 28, 256)       0         \n",
      "                                                                 \n",
      " block4_conv1 (Conv2D)       (None, 28, 28, 512)       1180160   \n",
      "                                                                 \n",
      " block4_conv2 (Conv2D)       (None, 28, 28, 512)       2359808   \n",
      "                                                                 \n",
      " block4_conv3 (Conv2D)       (None, 28, 28, 512)       2359808   \n",
      "                                                                 \n",
      " block4_pool (MaxPooling2D)  (None, 14, 14, 512)       0         \n",
      "                                                                 \n",
      " block5_conv1 (Conv2D)       (None, 14, 14, 512)       2359808   \n",
      "                                                                 \n",
      " block5_conv2 (Conv2D)       (None, 14, 14, 512)       2359808   \n",
      "                                                                 \n",
      " block5_conv3 (Conv2D)       (None, 14, 14, 512)       2359808   \n",
      "                                                                 \n",
      " block5_pool (MaxPooling2D)  (None, 7, 7, 512)         0         \n",
      "                                                                 \n",
      " flatten (Flatten)           (None, 25088)             0         \n",
      "                                                                 \n",
      " fc1 (Dense)                 (None, 4096)              102764544 \n",
      "                                                                 \n",
      " fc2 (Dense)                 (None, 4096)              16781312  \n",
      "                                                                 \n",
      " dense (Dense)               (None, 1)                 4097      \n",
      "                                                                 \n",
      "=================================================================\n",
      "Total params: 134,264,641\n",
      "Trainable params: 4,097\n",
      "Non-trainable params: 134,260,544\n",
      "_________________________________________________________________\n"
     ]
    }
   ],
   "source": [
    "model.summary()"
   ]
  },
  {
   "cell_type": "code",
   "execution_count": 34,
   "metadata": {},
   "outputs": [],
   "source": [
    "#learning_rate=0.0001"
   ]
  },
  {
   "cell_type": "code",
   "execution_count": 35,
   "metadata": {
    "execution": {
     "iopub.execute_input": "2021-12-15T07:48:55.584707Z",
     "iopub.status.busy": "2021-12-15T07:48:55.584401Z",
     "iopub.status.idle": "2021-12-15T07:48:55.603049Z",
     "shell.execute_reply": "2021-12-15T07:48:55.6022Z",
     "shell.execute_reply.started": "2021-12-15T07:48:55.584674Z"
    }
   },
   "outputs": [],
   "source": [
    "model.compile(optimizer='Adam', loss='binary_crossentropy', metrics=['accuracy'])"
   ]
  },
  {
   "cell_type": "code",
   "execution_count": 36,
   "metadata": {
    "execution": {
     "iopub.execute_input": "2021-12-15T07:50:07.723182Z",
     "iopub.status.busy": "2021-12-15T07:50:07.722867Z",
     "iopub.status.idle": "2021-12-15T08:25:25.242901Z",
     "shell.execute_reply": "2021-12-15T08:25:25.242248Z",
     "shell.execute_reply.started": "2021-12-15T07:50:07.723139Z"
    }
   },
   "outputs": [
    {
     "name": "stdout",
     "output_type": "stream",
     "text": [
      "Epoch 1/5\n",
      "37/37 [==============================] - 260s 7s/step - loss: 0.5879 - accuracy: 0.6951 - val_loss: 0.4781 - val_accuracy: 0.8316\n",
      "Epoch 2/5\n",
      "37/37 [==============================] - 307s 8s/step - loss: 0.4373 - accuracy: 0.8527 - val_loss: 0.3977 - val_accuracy: 0.8488\n",
      "Epoch 3/5\n",
      "37/37 [==============================] - 280s 8s/step - loss: 0.3896 - accuracy: 0.8536 - val_loss: 0.4163 - val_accuracy: 0.7904\n",
      "Epoch 4/5\n",
      "37/37 [==============================] - 291s 8s/step - loss: 0.3530 - accuracy: 0.8665 - val_loss: 0.3335 - val_accuracy: 0.8935\n",
      "Epoch 5/5\n",
      "37/37 [==============================] - 305s 8s/step - loss: 0.3241 - accuracy: 0.8898 - val_loss: 0.3209 - val_accuracy: 0.8763\n"
     ]
    },
    {
     "data": {
      "text/plain": [
       "<keras.callbacks.History at 0x19ddae62f88>"
      ]
     },
     "execution_count": 36,
     "metadata": {},
     "output_type": "execute_result"
    }
   ],
   "source": [
    "model.fit(X_train, y_train, epochs=5, validation_data=(X_test, y_test))"
   ]
  },
  {
   "cell_type": "code",
   "execution_count": 37,
   "metadata": {
    "execution": {
     "iopub.execute_input": "2021-12-15T10:33:48.617842Z",
     "iopub.status.busy": "2021-12-15T10:33:48.616904Z",
     "iopub.status.idle": "2021-12-15T10:33:48.621505Z",
     "shell.execute_reply": "2021-12-15T10:33:48.620832Z",
     "shell.execute_reply.started": "2021-12-15T10:33:48.617786Z"
    }
   },
   "outputs": [],
   "source": [
    "cap=cv2.VideoCapture(0)"
   ]
  },
  {
   "cell_type": "code",
   "execution_count": 38,
   "metadata": {},
   "outputs": [],
   "source": [
    "def drowsiness_detection(img):\n",
    "#     y_pred = model.predict_classes(img.reshape(1, 224, 224, 3))\n",
    "    y_pred=(model.predict(img.reshape(1, 224, 224, 3)) > 0.5).astype(\"int32\")\n",
    "    return y_pred[0][0]"
   ]
  },
  {
   "cell_type": "code",
   "execution_count": 91,
   "metadata": {},
   "outputs": [],
   "source": [
    "def draw_label(img, text, pos, bg_color):\n",
    "    text_size= cv2.getTextSize(text, cv2.FONT_HERSHEY_SCRIPT_SIMPLEX, 1, cv2.FILLED)\n",
    "    \n",
    "    end_x= pos[0] + text_size[0][0] + 84\n",
    "    end_y= pos[1] + text_size[0][1] + 20\n",
    "    pos[1]+=end_y\n",
    "    \n",
    "    cv2.rectangle(img, pos, (end_x, end_y), bg_color, 3)\n",
    "    cv2.putText(img, text, pos, cv2.FONT_HERSHEY_SIMPLEX, 1, (0,0,0), 1, cv2.LINE_AA)\n",
    "#     cv2.putText(img, text, pos, cv2.FONT_HERSHEY_SIMPLEX, 1, (0,0,0), 1, cv2.LINE_AA)"
   ]
  },
  {
   "cell_type": "code",
   "execution_count": 58,
   "metadata": {},
   "outputs": [],
   "source": [
    "eye_cascade= cv2.CascadeClassifier('haarcascade_eye.xml')\n",
    "face_cascade= cv2.CascadeClassifier('haarcascade_frontalface_default.xml')"
   ]
  },
  {
   "cell_type": "code",
   "execution_count": 59,
   "metadata": {},
   "outputs": [],
   "source": [
    "def detect_eye(img):\n",
    "    \n",
    "    coods= eye_cascade.detectMultiScale(img)\n",
    "#     print(coods)\n",
    "    \n",
    "    return coods"
   ]
  },
  {
   "cell_type": "code",
   "execution_count": 60,
   "metadata": {},
   "outputs": [],
   "source": [
    "def detect_face(img):\n",
    "    \n",
    "    coods= face_cascade.detectMultiScale(img)\n",
    "    print(coods[0])\n",
    "    return coods"
   ]
  },
  {
   "cell_type": "code",
   "execution_count": 94,
   "metadata": {},
   "outputs": [
    {
     "name": "stdout",
     "output_type": "stream",
     "text": [
      "[177  36 391 391]\n",
      "[184  39 382 382]\n",
      "[180  36 387 387]\n",
      "[179  33 387 387]\n",
      "[179  33 387 387]\n",
      "[175  36 387 387]\n",
      "[261 204 217 217]\n",
      "[179  33 387 387]\n",
      "[185  31 382 382]\n",
      "[174  25 395 395]\n",
      "[177  31 388 388]\n",
      "[179  28 390 390]\n",
      "[170  30 396 396]\n",
      "[170  30 396 396]\n",
      "[177  30 393 393]\n",
      "[182  31 382 382]\n",
      "[178  31 382 382]\n",
      "[181  33 382 382]\n",
      "[189  31 372 372]\n",
      "[194  36 365 365]\n",
      "[183  34 373 373]\n",
      "[186  33 370 370]\n",
      "[181  33 370 370]\n",
      "[181  33 370 370]\n",
      "[181  33 370 370]\n",
      "[180  34 378 378]\n",
      "[177  33 377 377]\n",
      "[177  33 377 377]\n",
      "[177  30 377 377]\n",
      "[177  33 377 377]\n",
      "[186  34 364 364]\n",
      "[179  33 377 377]\n",
      "[176  31 382 382]\n",
      "[179  33 377 377]\n",
      "[261 199 216 216]\n",
      "[176  29 382 382]\n",
      "[179  30 374 374]\n",
      "[179  28 376 376]\n",
      "[180  37 371 371]\n",
      "[180  34 373 373]\n",
      "[169  31 387 387]\n",
      "[180  34 373 373]\n",
      "[175  33 382 382]\n",
      "[180  34 373 373]\n",
      "[182  38 373 373]\n",
      "[176  31 382 382]\n",
      "[173  29 386 386]\n",
      "[173  29 386 386]\n",
      "[173  27 392 392]\n",
      "[173  27 392 392]\n",
      "[171  25 400 400]\n",
      "[171  25 400 400]\n",
      "[176  32 388 388]\n",
      "[258 195 219 219]\n",
      "[176  26 382 382]\n"
     ]
    },
    {
     "ename": "KeyboardInterrupt",
     "evalue": "",
     "output_type": "error",
     "traceback": [
      "\u001b[1;31m---------------------------------------------------------------------------\u001b[0m",
      "\u001b[1;31mKeyboardInterrupt\u001b[0m                         Traceback (most recent call last)",
      "\u001b[1;32m<ipython-input-94-e18599815df2>\u001b[0m in \u001b[0;36m<module>\u001b[1;34m\u001b[0m\n\u001b[0;32m      3\u001b[0m \u001b[1;33m\u001b[0m\u001b[0m\n\u001b[0;32m      4\u001b[0m     \u001b[0mgr_img\u001b[0m\u001b[1;33m=\u001b[0m\u001b[0mcv2\u001b[0m\u001b[1;33m.\u001b[0m\u001b[0mcvtColor\u001b[0m\u001b[1;33m(\u001b[0m\u001b[0mframe\u001b[0m\u001b[1;33m,\u001b[0m \u001b[0mcv2\u001b[0m\u001b[1;33m.\u001b[0m\u001b[0mCOLOR_BGR2GRAY\u001b[0m\u001b[1;33m)\u001b[0m\u001b[1;33m\u001b[0m\u001b[1;33m\u001b[0m\u001b[0m\n\u001b[1;32m----> 5\u001b[1;33m     \u001b[0mcoods\u001b[0m\u001b[1;33m=\u001b[0m\u001b[0mdetect_face\u001b[0m\u001b[1;33m(\u001b[0m\u001b[0mgr_img\u001b[0m\u001b[1;33m)\u001b[0m\u001b[1;33m\u001b[0m\u001b[1;33m\u001b[0m\u001b[0m\n\u001b[0m\u001b[0;32m      6\u001b[0m \u001b[1;33m\u001b[0m\u001b[0m\n\u001b[0;32m      7\u001b[0m     \u001b[1;32mfor\u001b[0m \u001b[0mx\u001b[0m\u001b[1;33m,\u001b[0m\u001b[0my\u001b[0m\u001b[1;33m,\u001b[0m\u001b[0mw\u001b[0m\u001b[1;33m,\u001b[0m\u001b[0mh\u001b[0m \u001b[1;32min\u001b[0m \u001b[0mcoods\u001b[0m\u001b[1;33m:\u001b[0m\u001b[1;33m\u001b[0m\u001b[1;33m\u001b[0m\u001b[0m\n",
      "\u001b[1;32m<ipython-input-60-c1f743f9ea3e>\u001b[0m in \u001b[0;36mdetect_face\u001b[1;34m(img)\u001b[0m\n\u001b[0;32m      1\u001b[0m \u001b[1;32mdef\u001b[0m \u001b[0mdetect_face\u001b[0m\u001b[1;33m(\u001b[0m\u001b[0mimg\u001b[0m\u001b[1;33m)\u001b[0m\u001b[1;33m:\u001b[0m\u001b[1;33m\u001b[0m\u001b[1;33m\u001b[0m\u001b[0m\n\u001b[0;32m      2\u001b[0m \u001b[1;33m\u001b[0m\u001b[0m\n\u001b[1;32m----> 3\u001b[1;33m     \u001b[0mcoods\u001b[0m\u001b[1;33m=\u001b[0m \u001b[0mface_cascade\u001b[0m\u001b[1;33m.\u001b[0m\u001b[0mdetectMultiScale\u001b[0m\u001b[1;33m(\u001b[0m\u001b[0mimg\u001b[0m\u001b[1;33m)\u001b[0m\u001b[1;33m\u001b[0m\u001b[1;33m\u001b[0m\u001b[0m\n\u001b[0m\u001b[0;32m      4\u001b[0m     \u001b[0mprint\u001b[0m\u001b[1;33m(\u001b[0m\u001b[0mcoods\u001b[0m\u001b[1;33m[\u001b[0m\u001b[1;36m0\u001b[0m\u001b[1;33m]\u001b[0m\u001b[1;33m)\u001b[0m\u001b[1;33m\u001b[0m\u001b[1;33m\u001b[0m\u001b[0m\n\u001b[0;32m      5\u001b[0m     \u001b[1;32mreturn\u001b[0m \u001b[0mcoods\u001b[0m\u001b[1;33m\u001b[0m\u001b[1;33m\u001b[0m\u001b[0m\n",
      "\u001b[1;31mKeyboardInterrupt\u001b[0m: "
     ]
    }
   ],
   "source": [
    "while True:\n",
    "    ret, frame =cap.read()\n",
    "    \n",
    "    gr_img=cv2.cvtColor(frame, cv2.COLOR_BGR2GRAY)\n",
    "    coods=detect_face(gr_img)\n",
    "    \n",
    "    for x,y,w,h in coods:\n",
    "        \n",
    "        cv2.rectangle(frame, (x,y), (x+w,y+h), (255,0,0), 3)\n",
    "        cropped_gr_img=gr_img[y:(y+h), x:(x+w)]\n",
    "        cropped_cl_img=frame[y:(y+h), x:(x+w)]\n",
    "#         eye_coods=detect_eye(cropped_gr_img)\n",
    "        \n",
    "#         for a,b,c,d in eye_coods:\n",
    "#             cv2.rectangle(cropped_cl_img, (a,b), (a+c,b+d), (0,255,0),2)\n",
    "            \n",
    "#             cropped_cl_eye=cropped_cl_img[b:(b+d), a:(a+c)]\n",
    "# #             calling the detection method\n",
    "#             img = cv2.resize(cropped_cl_eye, (224,224))\n",
    "\n",
    "#             y_pred = drowsiness_detection(img)\n",
    "#             print(y_pred)\n",
    "        \n",
    "#         cropped_img=frame[x:(x+w), y:(y+h)]\n",
    "#             cv2.imshow(\"cropped\", cropped_cl_eye)\n",
    "    \n",
    "    \n",
    "    if y_pred==0:\n",
    "        draw_label(frame, \"Drowsiness not detected\", [40,30], (0, 255, 0))\n",
    "    else:\n",
    "        draw_label(frame, \"Drowsiness detected\", [30,30], (0, 0, 255))\n",
    "        \n",
    "    \n",
    "    \n",
    "    cv2.imshow(\"window\", frame)\n",
    "    \n",
    "    if cv2.waitKey(1) & 0xFF == ord('x'):\n",
    "        break\n",
    "\n",
    "cv2.destroyAllWindows()"
   ]
  },
  {
   "cell_type": "code",
   "execution_count": null,
   "metadata": {},
   "outputs": [],
   "source": []
  }
 ],
 "metadata": {
  "kernelspec": {
   "display_name": "Python 3",
   "language": "python",
   "name": "python3"
  },
  "language_info": {
   "codemirror_mode": {
    "name": "ipython",
    "version": 3
   },
   "file_extension": ".py",
   "mimetype": "text/x-python",
   "name": "python",
   "nbconvert_exporter": "python",
   "pygments_lexer": "ipython3",
   "version": "3.7.6"
  }
 },
 "nbformat": 4,
 "nbformat_minor": 4
}
